{
 "cells": [
  {
   "cell_type": "markdown",
   "id": "f0840c7a",
   "metadata": {},
   "source": [
    "# Typing and Pydantic\n",
    "\n",
    "Brief\n",
    "\n",
    "## Python type hints\n",
    "\n",
    "Python allows you to optionally specify the types of variables e.g."
   ]
  },
  {
   "cell_type": "code",
   "execution_count": 1,
   "id": "08d99a48",
   "metadata": {},
   "outputs": [],
   "source": [
    "def add_one(n: int) -> int:\n",
    "    return n + 1"
   ]
  },
  {
   "cell_type": "markdown",
   "id": "486ce851",
   "metadata": {},
   "source": [
    "The function works when we use the "
   ]
  },
  {
   "cell_type": "code",
   "execution_count": 2,
   "id": "47401ed3",
   "metadata": {},
   "outputs": [
    {
     "data": {
      "text/plain": [
       "2"
      ]
     },
     "execution_count": 2,
     "metadata": {},
     "output_type": "execute_result"
    }
   ],
   "source": [
    "add_one(1)"
   ]
  },
  {
   "cell_type": "markdown",
   "id": "407fa6e6",
   "metadata": {},
   "source": [
    "... but it also works when we use the \"wrong\" type, e.g. passing a float instead of a "
   ]
  },
  {
   "cell_type": "code",
   "execution_count": 3,
   "id": "e5c1f16c",
   "metadata": {},
   "outputs": [
    {
     "data": {
      "text/plain": [
       "2.5"
      ]
     },
     "execution_count": 3,
     "metadata": {},
     "output_type": "execute_result"
    }
   ],
   "source": [
    "add_one(1.5)"
   ]
  },
  {
   "cell_type": "markdown",
   "id": "e0ff1377",
   "metadata": {},
   "source": [
    "That example works because `int` can be converted to `float`, so the operation `+` works as expected.\n",
    "\n",
    "If we tried with an incompatible data type, then the operation fails,"
   ]
  },
  {
   "cell_type": "code",
   "execution_count": 4,
   "id": "da54f112",
   "metadata": {},
   "outputs": [
    {
     "ename": "TypeError",
     "evalue": "can only concatenate str (not \"int\") to str",
     "output_type": "error",
     "traceback": [
      "\u001b[0;31m---------------------------------------------------------------------------\u001b[0m",
      "\u001b[0;31mTypeError\u001b[0m                                 Traceback (most recent call last)",
      "Cell \u001b[0;32mIn [4], line 1\u001b[0m\n\u001b[0;32m----> 1\u001b[0m \u001b[43madd_one\u001b[49m\u001b[43m(\u001b[49m\u001b[38;5;124;43m'\u001b[39;49m\u001b[38;5;124;43mHello\u001b[39;49m\u001b[38;5;124;43m'\u001b[39;49m\u001b[43m)\u001b[49m\n",
      "Cell \u001b[0;32mIn [1], line 2\u001b[0m, in \u001b[0;36madd_one\u001b[0;34m(n)\u001b[0m\n\u001b[1;32m      1\u001b[0m \u001b[38;5;28;01mdef\u001b[39;00m \u001b[38;5;21madd_one\u001b[39m(n: \u001b[38;5;28mint\u001b[39m) \u001b[38;5;241m-\u001b[39m\u001b[38;5;241m>\u001b[39m \u001b[38;5;28mint\u001b[39m:\n\u001b[0;32m----> 2\u001b[0m     \u001b[38;5;28;01mreturn\u001b[39;00m \u001b[43mn\u001b[49m\u001b[43m \u001b[49m\u001b[38;5;241;43m+\u001b[39;49m\u001b[43m \u001b[49m\u001b[38;5;241;43m1\u001b[39;49m\n",
      "\u001b[0;31mTypeError\u001b[0m: can only concatenate str (not \"int\") to str"
     ]
    }
   ],
   "source": [
    "add_one('Hello')"
   ]
  },
  {
   "cell_type": "markdown",
   "id": "c760b728",
   "metadata": {},
   "source": [
    "Summary: type hint does not change any behaivour; they are just hints.\n",
    "\n",
    "**So why might you want to use type hints?**\n",
    "\n",
    "- ...?\n",
    "\n",
    "[Here](https://dagster.io/blog/python-type-hinting) are some reasons why.\n",
    "\n",
    "## Dataclasses\n",
    "\n",
    "The above example uses type hints for a standalone function. They can also be used in other structures, e.g. in a [dataclass](https://docs.python.org/3/library/dataclasses.html),"
   ]
  },
  {
   "cell_type": "code",
   "execution_count": 5,
   "id": "0cac27c3",
   "metadata": {},
   "outputs": [],
   "source": [
    "from dataclasses import dataclass\n",
    "\n",
    "@dataclass\n",
    "class InventoryItem:\n",
    "    \"\"\"Class for keeping track of an item in inventory.\"\"\"\n",
    "    name: str\n",
    "    unit_price: float\n",
    "    quantity_on_hand: int = 0\n",
    "\n",
    "    def total_cost(self) -> float:\n",
    "        return self.unit_price * self.quantity_on_hand"
   ]
  },
  {
   "cell_type": "code",
   "execution_count": 6,
   "id": "3d4c0b44",
   "metadata": {},
   "outputs": [
    {
     "data": {
      "text/plain": [
       "4.75"
      ]
     },
     "execution_count": 6,
     "metadata": {},
     "output_type": "execute_result"
    }
   ],
   "source": [
    "my_inventory = InventoryItem(name='Apple', unit_price=0.95, quantity_on_hand=5)\n",
    "my_inventory.total_cost()"
   ]
  },
  {
   "cell_type": "markdown",
   "id": "1decbdcc",
   "metadata": {},
   "source": [
    "Dataclasses are useful structures, removing much of the [boilerplate code](https://en.wikipedia.org/wiki/Boilerplate_code) needed when normally defining classes e.g. for `InventoryItem` we have not needed to define an `__init__` method, which could have looked like this,\n",
    "\n",
    "```\n",
    "def __init__(self, name: str, unit_price: float, quantity_on_hand: int = 0):\n",
    "    self.name = name\n",
    "    self.unit_price = unit_price\n",
    "    self.quantity_on_hand = quantity_on_hand\n",
    "```\n",
    "\n",
    "But still, we do not get an error if we pass a variable of the wrong type,"
   ]
  },
  {
   "cell_type": "code",
   "execution_count": 7,
   "id": "5b876844",
   "metadata": {},
   "outputs": [],
   "source": [
    "my_inventory = InventoryItem(name='Apple', unit_price=0.95, quantity_on_hand='Apple')"
   ]
  },
  {
   "cell_type": "code",
   "execution_count": 8,
   "id": "e8feadbb",
   "metadata": {
    "scrolled": true
   },
   "outputs": [
    {
     "data": {
      "text/plain": [
       "'Apple'"
      ]
     },
     "execution_count": 8,
     "metadata": {},
     "output_type": "execute_result"
    }
   ],
   "source": [
    "my_inventory.quantity_on_hand"
   ]
  },
  {
   "cell_type": "markdown",
   "id": "d8f9e6bf",
   "metadata": {},
   "source": [
    "## Data Validation \n",
    "\n",
    "This is checking that the data satisfies some expected criteria.\n",
    "\n",
    "We could manually validate that the provided `quantity_on_hand` is indeed an `int` by adding an assert statement,"
   ]
  },
  {
   "cell_type": "code",
   "execution_count": 9,
   "id": "61a4c8f2",
   "metadata": {},
   "outputs": [],
   "source": [
    "@dataclass\n",
    "class InventoryItem:\n",
    "    \"\"\"Class for keeping track of an item in inventory.\"\"\"\n",
    "\n",
    "    def __init__(self, name: str, unit_price: float, quantity_on_hand: int = 0):\n",
    "        self.name = name\n",
    "        self.unit_price = unit_price\n",
    "        assert type(quantity_on_hand)  == int\n",
    "        self.quantity_on_hand = quantity_on_hand\n",
    "    \n",
    "    def total_cost(self) -> float:\n",
    "        return self.unit_price * self.quantity_on_hand"
   ]
  },
  {
   "cell_type": "code",
   "execution_count": 10,
   "id": "304fecab",
   "metadata": {},
   "outputs": [
    {
     "ename": "AssertionError",
     "evalue": "",
     "output_type": "error",
     "traceback": [
      "\u001b[0;31m---------------------------------------------------------------------------\u001b[0m",
      "\u001b[0;31mAssertionError\u001b[0m                            Traceback (most recent call last)",
      "Cell \u001b[0;32mIn [10], line 1\u001b[0m\n\u001b[0;32m----> 1\u001b[0m my_inventory \u001b[38;5;241m=\u001b[39m \u001b[43mInventoryItem\u001b[49m\u001b[43m(\u001b[49m\u001b[43mname\u001b[49m\u001b[38;5;241;43m=\u001b[39;49m\u001b[38;5;124;43m'\u001b[39;49m\u001b[38;5;124;43mApple\u001b[39;49m\u001b[38;5;124;43m'\u001b[39;49m\u001b[43m,\u001b[49m\u001b[43m \u001b[49m\u001b[43munit_price\u001b[49m\u001b[38;5;241;43m=\u001b[39;49m\u001b[38;5;241;43m0.95\u001b[39;49m\u001b[43m,\u001b[49m\u001b[43m \u001b[49m\u001b[43mquantity_on_hand\u001b[49m\u001b[38;5;241;43m=\u001b[39;49m\u001b[38;5;124;43m'\u001b[39;49m\u001b[38;5;124;43mApple\u001b[39;49m\u001b[38;5;124;43m'\u001b[39;49m\u001b[43m)\u001b[49m\n",
      "Cell \u001b[0;32mIn [9], line 8\u001b[0m, in \u001b[0;36mInventoryItem.__init__\u001b[0;34m(self, name, unit_price, quantity_on_hand)\u001b[0m\n\u001b[1;32m      6\u001b[0m \u001b[38;5;28mself\u001b[39m\u001b[38;5;241m.\u001b[39mname \u001b[38;5;241m=\u001b[39m name\n\u001b[1;32m      7\u001b[0m \u001b[38;5;28mself\u001b[39m\u001b[38;5;241m.\u001b[39munit_price \u001b[38;5;241m=\u001b[39m unit_price\n\u001b[0;32m----> 8\u001b[0m \u001b[38;5;28;01massert\u001b[39;00m \u001b[38;5;28mtype\u001b[39m(quantity_on_hand)  \u001b[38;5;241m==\u001b[39m \u001b[38;5;28mint\u001b[39m\n\u001b[1;32m      9\u001b[0m \u001b[38;5;28mself\u001b[39m\u001b[38;5;241m.\u001b[39mquantity_on_hand \u001b[38;5;241m=\u001b[39m quantity_on_hand\n",
      "\u001b[0;31mAssertionError\u001b[0m: "
     ]
    }
   ],
   "source": [
    "my_inventory = InventoryItem(name='Apple', unit_price=0.95, quantity_on_hand='Apple')"
   ]
  },
  {
   "cell_type": "markdown",
   "id": "aa5883ae",
   "metadata": {},
   "source": [
    "**Can you see any downsides to manually validating this way?**\n",
    "\n",
    "- ...?"
   ]
  },
  {
   "cell_type": "markdown",
   "id": "a10aa77a",
   "metadata": {},
   "source": [
    "It is easy to quickly get stuck in lots of problems like this when manually validating code.\n",
    "\n",
    "There are [lots of](https://medium.com/@thomas.a.roche/python-data-validation-using-pydantic-34306e88492c) solutions around this. One is a third party library\n",
    "\n",
    "## [Pydantic](https://docs.pydantic.dev/latest/)\n",
    "\n",
    "Pydantic is the most widely used data validation library for Python. First install it, via\n",
    "\n",
    "`pip install pydantic`\n",
    "\n",
    "Then we specify that our class is a pydantic `BaseModel`, e.g."
   ]
  },
  {
   "cell_type": "code",
   "execution_count": 11,
   "id": "5aa2fc75",
   "metadata": {},
   "outputs": [],
   "source": [
    "from pydantic import BaseModel\n",
    "\n",
    "class InventoryItem(BaseModel):\n",
    "    \"\"\"Class for keeping track of an item in inventory.\"\"\"\n",
    "    name: str\n",
    "    unit_price: float\n",
    "    quantity_on_hand: int = 0\n",
    "\n",
    "    def total_cost(self) -> float:\n",
    "        return self.unit_price * self.quantity_on_hand"
   ]
  },
  {
   "cell_type": "code",
   "execution_count": 12,
   "id": "a9858a9d",
   "metadata": {},
   "outputs": [
    {
     "ename": "ValidationError",
     "evalue": "1 validation error for InventoryItem\nquantity_on_hand\n  Input should be a valid integer, unable to parse string as an integer [type=int_parsing, input_value='Apple', input_type=str]\n    For further information visit https://errors.pydantic.dev/2.5/v/int_parsing",
     "output_type": "error",
     "traceback": [
      "\u001b[0;31m---------------------------------------------------------------------------\u001b[0m",
      "\u001b[0;31mValidationError\u001b[0m                           Traceback (most recent call last)",
      "Cell \u001b[0;32mIn [12], line 1\u001b[0m\n\u001b[0;32m----> 1\u001b[0m my_inventory \u001b[38;5;241m=\u001b[39m \u001b[43mInventoryItem\u001b[49m\u001b[43m(\u001b[49m\u001b[43mname\u001b[49m\u001b[38;5;241;43m=\u001b[39;49m\u001b[38;5;124;43m'\u001b[39;49m\u001b[38;5;124;43mApple\u001b[39;49m\u001b[38;5;124;43m'\u001b[39;49m\u001b[43m,\u001b[49m\u001b[43m \u001b[49m\u001b[43munit_price\u001b[49m\u001b[38;5;241;43m=\u001b[39;49m\u001b[38;5;241;43m0.95\u001b[39;49m\u001b[43m,\u001b[49m\u001b[43m \u001b[49m\u001b[43mquantity_on_hand\u001b[49m\u001b[38;5;241;43m=\u001b[39;49m\u001b[38;5;124;43m'\u001b[39;49m\u001b[38;5;124;43mApple\u001b[39;49m\u001b[38;5;124;43m'\u001b[39;49m\u001b[43m)\u001b[49m\n",
      "File \u001b[0;32m/opt/miniconda3/envs/base_py310/lib/python3.10/site-packages/pydantic/main.py:164\u001b[0m, in \u001b[0;36mBaseModel.__init__\u001b[0;34m(__pydantic_self__, **data)\u001b[0m\n\u001b[1;32m    162\u001b[0m \u001b[38;5;66;03m# `__tracebackhide__` tells pytest and some other tools to omit this function from tracebacks\u001b[39;00m\n\u001b[1;32m    163\u001b[0m __tracebackhide__ \u001b[38;5;241m=\u001b[39m \u001b[38;5;28;01mTrue\u001b[39;00m\n\u001b[0;32m--> 164\u001b[0m \u001b[43m__pydantic_self__\u001b[49m\u001b[38;5;241;43m.\u001b[39;49m\u001b[43m__pydantic_validator__\u001b[49m\u001b[38;5;241;43m.\u001b[39;49m\u001b[43mvalidate_python\u001b[49m\u001b[43m(\u001b[49m\u001b[43mdata\u001b[49m\u001b[43m,\u001b[49m\u001b[43m \u001b[49m\u001b[43mself_instance\u001b[49m\u001b[38;5;241;43m=\u001b[39;49m\u001b[43m__pydantic_self__\u001b[49m\u001b[43m)\u001b[49m\n",
      "\u001b[0;31mValidationError\u001b[0m: 1 validation error for InventoryItem\nquantity_on_hand\n  Input should be a valid integer, unable to parse string as an integer [type=int_parsing, input_value='Apple', input_type=str]\n    For further information visit https://errors.pydantic.dev/2.5/v/int_parsing"
     ]
    }
   ],
   "source": [
    "my_inventory = InventoryItem(name='Apple', unit_price=0.95, quantity_on_hand='Apple')"
   ]
  },
  {
   "cell_type": "markdown",
   "id": "46152047",
   "metadata": {},
   "source": [
    "But we keep the nice behaivour that floats still work,"
   ]
  },
  {
   "cell_type": "code",
   "execution_count": 13,
   "id": "32c91faa",
   "metadata": {},
   "outputs": [],
   "source": [
    "my_inventory = InventoryItem(name='Apple', unit_price=0.95, quantity_on_hand=1.)"
   ]
  },
  {
   "cell_type": "markdown",
   "id": "1e73709f",
   "metadata": {},
   "source": [
    "In contrast to the `dataclass` implementation above, the `quantity_on_hand` attribute is actually converted to a float,"
   ]
  },
  {
   "cell_type": "code",
   "execution_count": 14,
   "id": "0e2bc779",
   "metadata": {},
   "outputs": [
    {
     "data": {
      "text/plain": [
       "1"
      ]
     },
     "execution_count": 14,
     "metadata": {},
     "output_type": "execute_result"
    }
   ],
   "source": [
    "my_inventory.quantity_on_hand"
   ]
  },
  {
   "cell_type": "markdown",
   "id": "1c0a1551",
   "metadata": {},
   "source": [
    "`pydantic` has lots more options data validation, e.g. if we want to insist that `quantity_on_hand` is a positive integer, greater than 0, then we do:"
   ]
  },
  {
   "cell_type": "code",
   "execution_count": 15,
   "id": "619b4ba8",
   "metadata": {},
   "outputs": [],
   "source": [
    "from pydantic import BaseModel, PositiveInt\n",
    "\n",
    "class InventoryItem(BaseModel):\n",
    "    \"\"\"Class for keeping track of an item in inventory.\"\"\"\n",
    "    name: str\n",
    "    unit_price: float\n",
    "    quantity_on_hand: PositiveInt"
   ]
  },
  {
   "cell_type": "code",
   "execution_count": 16,
   "id": "69c886b2",
   "metadata": {},
   "outputs": [
    {
     "ename": "ValidationError",
     "evalue": "1 validation error for InventoryItem\nquantity_on_hand\n  Input should be greater than 0 [type=greater_than, input_value=0, input_type=int]\n    For further information visit https://errors.pydantic.dev/2.5/v/greater_than",
     "output_type": "error",
     "traceback": [
      "\u001b[0;31m---------------------------------------------------------------------------\u001b[0m",
      "\u001b[0;31mValidationError\u001b[0m                           Traceback (most recent call last)",
      "Cell \u001b[0;32mIn [16], line 1\u001b[0m\n\u001b[0;32m----> 1\u001b[0m my_inventory \u001b[38;5;241m=\u001b[39m \u001b[43mInventoryItem\u001b[49m\u001b[43m(\u001b[49m\u001b[43mname\u001b[49m\u001b[38;5;241;43m=\u001b[39;49m\u001b[38;5;124;43m'\u001b[39;49m\u001b[38;5;124;43mApple\u001b[39;49m\u001b[38;5;124;43m'\u001b[39;49m\u001b[43m,\u001b[49m\u001b[43m \u001b[49m\u001b[43munit_price\u001b[49m\u001b[38;5;241;43m=\u001b[39;49m\u001b[38;5;241;43m0.95\u001b[39;49m\u001b[43m,\u001b[49m\u001b[43m \u001b[49m\u001b[43mquantity_on_hand\u001b[49m\u001b[38;5;241;43m=\u001b[39;49m\u001b[38;5;241;43m0\u001b[39;49m\u001b[43m)\u001b[49m\n",
      "File \u001b[0;32m/opt/miniconda3/envs/base_py310/lib/python3.10/site-packages/pydantic/main.py:164\u001b[0m, in \u001b[0;36mBaseModel.__init__\u001b[0;34m(__pydantic_self__, **data)\u001b[0m\n\u001b[1;32m    162\u001b[0m \u001b[38;5;66;03m# `__tracebackhide__` tells pytest and some other tools to omit this function from tracebacks\u001b[39;00m\n\u001b[1;32m    163\u001b[0m __tracebackhide__ \u001b[38;5;241m=\u001b[39m \u001b[38;5;28;01mTrue\u001b[39;00m\n\u001b[0;32m--> 164\u001b[0m \u001b[43m__pydantic_self__\u001b[49m\u001b[38;5;241;43m.\u001b[39;49m\u001b[43m__pydantic_validator__\u001b[49m\u001b[38;5;241;43m.\u001b[39;49m\u001b[43mvalidate_python\u001b[49m\u001b[43m(\u001b[49m\u001b[43mdata\u001b[49m\u001b[43m,\u001b[49m\u001b[43m \u001b[49m\u001b[43mself_instance\u001b[49m\u001b[38;5;241;43m=\u001b[39;49m\u001b[43m__pydantic_self__\u001b[49m\u001b[43m)\u001b[49m\n",
      "\u001b[0;31mValidationError\u001b[0m: 1 validation error for InventoryItem\nquantity_on_hand\n  Input should be greater than 0 [type=greater_than, input_value=0, input_type=int]\n    For further information visit https://errors.pydantic.dev/2.5/v/greater_than"
     ]
    }
   ],
   "source": [
    "my_inventory = InventoryItem(name='Apple', unit_price=0.95, quantity_on_hand=0)"
   ]
  }
 ],
 "metadata": {
  "kernelspec": {
   "display_name": "Python 3 (ipykernel)",
   "language": "python",
   "name": "python3"
  },
  "language_info": {
   "codemirror_mode": {
    "name": "ipython",
    "version": 3
   },
   "file_extension": ".py",
   "mimetype": "text/x-python",
   "name": "python",
   "nbconvert_exporter": "python",
   "pygments_lexer": "ipython3",
   "version": "3.10.8"
  }
 },
 "nbformat": 4,
 "nbformat_minor": 5
}
